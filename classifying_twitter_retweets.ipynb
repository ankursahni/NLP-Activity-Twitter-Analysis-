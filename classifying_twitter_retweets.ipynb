{
 "cells": [
  {
   "cell_type": "code",
   "execution_count": null,
   "metadata": {},
   "outputs": [],
   "source": [
    "# Project Members:\n",
    "# Ankur Sahni\n",
    "# Kshitij Pokhiriyal\n",
    "# Niranjan\n",
    "# Syed Noor "
   ]
  },
  {
   "cell_type": "code",
   "execution_count": 1,
   "metadata": {},
   "outputs": [],
   "source": [
    "import pandas as pd"
   ]
  },
  {
   "cell_type": "code",
   "execution_count": 2,
   "metadata": {},
   "outputs": [],
   "source": [
    "data = pd.read_csv(r'E:\\New Folder\\covid_canada.csv')"
   ]
  },
  {
   "cell_type": "code",
   "execution_count": 3,
   "metadata": {},
   "outputs": [
    {
     "data": {
      "text/html": [
       "<div>\n",
       "<style scoped>\n",
       "    .dataframe tbody tr th:only-of-type {\n",
       "        vertical-align: middle;\n",
       "    }\n",
       "\n",
       "    .dataframe tbody tr th {\n",
       "        vertical-align: top;\n",
       "    }\n",
       "\n",
       "    .dataframe thead th {\n",
       "        text-align: right;\n",
       "    }\n",
       "</style>\n",
       "<table border=\"1\" class=\"dataframe\">\n",
       "  <thead>\n",
       "    <tr style=\"text-align: right;\">\n",
       "      <th></th>\n",
       "      <th>Tweeted Text</th>\n",
       "      <th>retweet_count</th>\n",
       "    </tr>\n",
       "  </thead>\n",
       "  <tbody>\n",
       "    <tr>\n",
       "      <td>0</td>\n",
       "      <td>b'RT @Truthproject4: City of Miami to buy #Bit...</td>\n",
       "      <td>4</td>\n",
       "    </tr>\n",
       "    <tr>\n",
       "      <td>1</td>\n",
       "      <td>b'@JustinTrudeau who is paying for the enforce...</td>\n",
       "      <td>0</td>\n",
       "    </tr>\n",
       "    <tr>\n",
       "      <td>2</td>\n",
       "      <td>b'RT @Truthproject4: City of Miami to buy #Bit...</td>\n",
       "      <td>4</td>\n",
       "    </tr>\n",
       "    <tr>\n",
       "      <td>3</td>\n",
       "      <td>b'RT @MelissaLMRogers: When government determi...</td>\n",
       "      <td>47</td>\n",
       "    </tr>\n",
       "    <tr>\n",
       "      <td>4</td>\n",
       "      <td>b'RT @Jacklyn39603402: If travel is responsibl...</td>\n",
       "      <td>29</td>\n",
       "    </tr>\n",
       "  </tbody>\n",
       "</table>\n",
       "</div>"
      ],
      "text/plain": [
       "                                        Tweeted Text  retweet_count\n",
       "0  b'RT @Truthproject4: City of Miami to buy #Bit...              4\n",
       "1  b'@JustinTrudeau who is paying for the enforce...              0\n",
       "2  b'RT @Truthproject4: City of Miami to buy #Bit...              4\n",
       "3  b'RT @MelissaLMRogers: When government determi...             47\n",
       "4  b'RT @Jacklyn39603402: If travel is responsibl...             29"
      ]
     },
     "execution_count": 3,
     "metadata": {},
     "output_type": "execute_result"
    }
   ],
   "source": [
    "data.head()"
   ]
  },
  {
   "cell_type": "code",
   "execution_count": 4,
   "metadata": {},
   "outputs": [
    {
     "data": {
      "text/plain": [
       "(668, 2)"
      ]
     },
     "execution_count": 4,
     "metadata": {},
     "output_type": "execute_result"
    }
   ],
   "source": [
    "data.shape"
   ]
  },
  {
   "cell_type": "code",
   "execution_count": 5,
   "metadata": {},
   "outputs": [],
   "source": [
    "def get_target_column(retweet_count):\n",
    "    \n",
    "    if retweet_count > 10:\n",
    "        return 'Class A'\n",
    "    else:\n",
    "        return 'Class B'\n",
    "    \n",
    "data['target'] = data['retweet_count'].apply(get_target_column)"
   ]
  },
  {
   "cell_type": "code",
   "execution_count": 6,
   "metadata": {},
   "outputs": [
    {
     "data": {
      "text/plain": [
       "Class B    474\n",
       "Class A    194\n",
       "Name: target, dtype: int64"
      ]
     },
     "execution_count": 6,
     "metadata": {},
     "output_type": "execute_result"
    }
   ],
   "source": [
    "data['target'].value_counts()"
   ]
  },
  {
   "cell_type": "code",
   "execution_count": 7,
   "metadata": {},
   "outputs": [],
   "source": [
    "data_new = data[['Tweeted Text', 'target']]"
   ]
  },
  {
   "cell_type": "code",
   "execution_count": 8,
   "metadata": {},
   "outputs": [
    {
     "data": {
      "text/html": [
       "<div>\n",
       "<style scoped>\n",
       "    .dataframe tbody tr th:only-of-type {\n",
       "        vertical-align: middle;\n",
       "    }\n",
       "\n",
       "    .dataframe tbody tr th {\n",
       "        vertical-align: top;\n",
       "    }\n",
       "\n",
       "    .dataframe thead th {\n",
       "        text-align: right;\n",
       "    }\n",
       "</style>\n",
       "<table border=\"1\" class=\"dataframe\">\n",
       "  <thead>\n",
       "    <tr style=\"text-align: right;\">\n",
       "      <th></th>\n",
       "      <th>Tweeted Text</th>\n",
       "      <th>target</th>\n",
       "    </tr>\n",
       "  </thead>\n",
       "  <tbody>\n",
       "    <tr>\n",
       "      <td>0</td>\n",
       "      <td>b'RT @Truthproject4: City of Miami to buy #Bit...</td>\n",
       "      <td>Class B</td>\n",
       "    </tr>\n",
       "    <tr>\n",
       "      <td>1</td>\n",
       "      <td>b'@JustinTrudeau who is paying for the enforce...</td>\n",
       "      <td>Class B</td>\n",
       "    </tr>\n",
       "    <tr>\n",
       "      <td>2</td>\n",
       "      <td>b'RT @Truthproject4: City of Miami to buy #Bit...</td>\n",
       "      <td>Class B</td>\n",
       "    </tr>\n",
       "    <tr>\n",
       "      <td>3</td>\n",
       "      <td>b'RT @MelissaLMRogers: When government determi...</td>\n",
       "      <td>Class A</td>\n",
       "    </tr>\n",
       "    <tr>\n",
       "      <td>4</td>\n",
       "      <td>b'RT @Jacklyn39603402: If travel is responsibl...</td>\n",
       "      <td>Class A</td>\n",
       "    </tr>\n",
       "    <tr>\n",
       "      <td>...</td>\n",
       "      <td>...</td>\n",
       "      <td>...</td>\n",
       "    </tr>\n",
       "    <tr>\n",
       "      <td>663</td>\n",
       "      <td>b'Cases and your Chances of RECOVERY. #Canada ...</td>\n",
       "      <td>Class B</td>\n",
       "    </tr>\n",
       "    <tr>\n",
       "      <td>664</td>\n",
       "      <td>b'February 4, 2021  Pandemic doesn\\xe2\\x80\\x99...</td>\n",
       "      <td>Class B</td>\n",
       "    </tr>\n",
       "    <tr>\n",
       "      <td>665</td>\n",
       "      <td>b'Karens Gone Wild Canadian Edition!!  #Karen ...</td>\n",
       "      <td>Class B</td>\n",
       "    </tr>\n",
       "    <tr>\n",
       "      <td>666</td>\n",
       "      <td>b'February 4, 2021  Don\\xe2\\x80\\x99t let the p...</td>\n",
       "      <td>Class B</td>\n",
       "    </tr>\n",
       "    <tr>\n",
       "      <td>667</td>\n",
       "      <td>b'@CTVNews #Trudeau Stealing from #CoVax IS pa...</td>\n",
       "      <td>Class B</td>\n",
       "    </tr>\n",
       "  </tbody>\n",
       "</table>\n",
       "<p>668 rows × 2 columns</p>\n",
       "</div>"
      ],
      "text/plain": [
       "                                          Tweeted Text   target\n",
       "0    b'RT @Truthproject4: City of Miami to buy #Bit...  Class B\n",
       "1    b'@JustinTrudeau who is paying for the enforce...  Class B\n",
       "2    b'RT @Truthproject4: City of Miami to buy #Bit...  Class B\n",
       "3    b'RT @MelissaLMRogers: When government determi...  Class A\n",
       "4    b'RT @Jacklyn39603402: If travel is responsibl...  Class A\n",
       "..                                                 ...      ...\n",
       "663  b'Cases and your Chances of RECOVERY. #Canada ...  Class B\n",
       "664  b'February 4, 2021  Pandemic doesn\\xe2\\x80\\x99...  Class B\n",
       "665  b'Karens Gone Wild Canadian Edition!!  #Karen ...  Class B\n",
       "666  b'February 4, 2021  Don\\xe2\\x80\\x99t let the p...  Class B\n",
       "667  b'@CTVNews #Trudeau Stealing from #CoVax IS pa...  Class B\n",
       "\n",
       "[668 rows x 2 columns]"
      ]
     },
     "execution_count": 8,
     "metadata": {},
     "output_type": "execute_result"
    }
   ],
   "source": [
    "data_new"
   ]
  },
  {
   "cell_type": "code",
   "execution_count": 9,
   "metadata": {},
   "outputs": [
    {
     "name": "stdout",
     "output_type": "stream",
     "text": [
      "Requirement already satisfied: tweet-preprocessor in c:\\users\\sahni\\anaconda3\\lib\\site-packages (0.6.0)\n"
     ]
    }
   ],
   "source": []
  },
  {
   "cell_type": "code",
   "execution_count": 10,
   "metadata": {},
   "outputs": [],
   "source": [
    "import preprocessor as p"
   ]
  },
  {
   "cell_type": "code",
   "execution_count": 11,
   "metadata": {},
   "outputs": [],
   "source": [
    "data_new['cleaned_text'] = data_new['Tweeted Text'].apply(p.clean)"
   ]
  },
  {
   "cell_type": "code",
   "execution_count": 12,
   "metadata": {},
   "outputs": [
    {
     "data": {
      "text/html": [
       "<div>\n",
       "<style scoped>\n",
       "    .dataframe tbody tr th:only-of-type {\n",
       "        vertical-align: middle;\n",
       "    }\n",
       "\n",
       "    .dataframe tbody tr th {\n",
       "        vertical-align: top;\n",
       "    }\n",
       "\n",
       "    .dataframe thead th {\n",
       "        text-align: right;\n",
       "    }\n",
       "</style>\n",
       "<table border=\"1\" class=\"dataframe\">\n",
       "  <thead>\n",
       "    <tr style=\"text-align: right;\">\n",
       "      <th></th>\n",
       "      <th>Tweeted Text</th>\n",
       "      <th>cleaned_text</th>\n",
       "    </tr>\n",
       "  </thead>\n",
       "  <tbody>\n",
       "    <tr>\n",
       "      <td>0</td>\n",
       "      <td>b'RT @Truthproject4: City of Miami to buy #Bit...</td>\n",
       "      <td>b'RT : City of Miami to buy \\xe2\\x80\\xa6'</td>\n",
       "    </tr>\n",
       "    <tr>\n",
       "      <td>1</td>\n",
       "      <td>b'@JustinTrudeau who is paying for the enforce...</td>\n",
       "      <td>b' who is paying for the enforcement of \\xe2\\x...</td>\n",
       "    </tr>\n",
       "    <tr>\n",
       "      <td>2</td>\n",
       "      <td>b'RT @Truthproject4: City of Miami to buy #Bit...</td>\n",
       "      <td>b'RT : City of Miami to buy \\xe2\\x80\\xa6'</td>\n",
       "    </tr>\n",
       "    <tr>\n",
       "      <td>3</td>\n",
       "      <td>b'RT @MelissaLMRogers: When government determi...</td>\n",
       "      <td>b'RT : When government determines what\\xe2\\x80...</td>\n",
       "    </tr>\n",
       "    <tr>\n",
       "      <td>4</td>\n",
       "      <td>b'RT @Jacklyn39603402: If travel is responsibl...</td>\n",
       "      <td>b'RT : If travel is responsible for less than ...</td>\n",
       "    </tr>\n",
       "    <tr>\n",
       "      <td>...</td>\n",
       "      <td>...</td>\n",
       "      <td>...</td>\n",
       "    </tr>\n",
       "    <tr>\n",
       "      <td>663</td>\n",
       "      <td>b'Cases and your Chances of RECOVERY. #Canada ...</td>\n",
       "      <td>b'Cases and your Chances of RECOVERY. &amp;amp; TO...</td>\n",
       "    </tr>\n",
       "    <tr>\n",
       "      <td>664</td>\n",
       "      <td>b'February 4, 2021  Pandemic doesn\\xe2\\x80\\x99...</td>\n",
       "      <td>b'February , Pandemic doesn\\xe2\\x80\\x99t discr...</td>\n",
       "    </tr>\n",
       "    <tr>\n",
       "      <td>665</td>\n",
       "      <td>b'Karens Gone Wild Canadian Edition!!  #Karen ...</td>\n",
       "      <td>b'Karens Gone Wild Canadian Edition!! '</td>\n",
       "    </tr>\n",
       "    <tr>\n",
       "      <td>666</td>\n",
       "      <td>b'February 4, 2021  Don\\xe2\\x80\\x99t let the p...</td>\n",
       "      <td>b'February , Don\\xe2\\x80\\x99t let the pandemic...</td>\n",
       "    </tr>\n",
       "    <tr>\n",
       "      <td>667</td>\n",
       "      <td>b'@CTVNews #Trudeau Stealing from #CoVax IS pa...</td>\n",
       "      <td>b' Stealing from IS part of YOUR Strategy for ...</td>\n",
       "    </tr>\n",
       "  </tbody>\n",
       "</table>\n",
       "<p>668 rows × 2 columns</p>\n",
       "</div>"
      ],
      "text/plain": [
       "                                          Tweeted Text  \\\n",
       "0    b'RT @Truthproject4: City of Miami to buy #Bit...   \n",
       "1    b'@JustinTrudeau who is paying for the enforce...   \n",
       "2    b'RT @Truthproject4: City of Miami to buy #Bit...   \n",
       "3    b'RT @MelissaLMRogers: When government determi...   \n",
       "4    b'RT @Jacklyn39603402: If travel is responsibl...   \n",
       "..                                                 ...   \n",
       "663  b'Cases and your Chances of RECOVERY. #Canada ...   \n",
       "664  b'February 4, 2021  Pandemic doesn\\xe2\\x80\\x99...   \n",
       "665  b'Karens Gone Wild Canadian Edition!!  #Karen ...   \n",
       "666  b'February 4, 2021  Don\\xe2\\x80\\x99t let the p...   \n",
       "667  b'@CTVNews #Trudeau Stealing from #CoVax IS pa...   \n",
       "\n",
       "                                          cleaned_text  \n",
       "0            b'RT : City of Miami to buy \\xe2\\x80\\xa6'  \n",
       "1    b' who is paying for the enforcement of \\xe2\\x...  \n",
       "2            b'RT : City of Miami to buy \\xe2\\x80\\xa6'  \n",
       "3    b'RT : When government determines what\\xe2\\x80...  \n",
       "4    b'RT : If travel is responsible for less than ...  \n",
       "..                                                 ...  \n",
       "663  b'Cases and your Chances of RECOVERY. &amp; TO...  \n",
       "664  b'February , Pandemic doesn\\xe2\\x80\\x99t discr...  \n",
       "665            b'Karens Gone Wild Canadian Edition!! '  \n",
       "666  b'February , Don\\xe2\\x80\\x99t let the pandemic...  \n",
       "667  b' Stealing from IS part of YOUR Strategy for ...  \n",
       "\n",
       "[668 rows x 2 columns]"
      ]
     },
     "execution_count": 12,
     "metadata": {},
     "output_type": "execute_result"
    }
   ],
   "source": [
    "data_new[[\"Tweeted Text\",\"cleaned_text\"]]"
   ]
  },
  {
   "cell_type": "code",
   "execution_count": 13,
   "metadata": {},
   "outputs": [
    {
     "data": {
      "text/html": [
       "<div>\n",
       "<style scoped>\n",
       "    .dataframe tbody tr th:only-of-type {\n",
       "        vertical-align: middle;\n",
       "    }\n",
       "\n",
       "    .dataframe tbody tr th {\n",
       "        vertical-align: top;\n",
       "    }\n",
       "\n",
       "    .dataframe thead th {\n",
       "        text-align: right;\n",
       "    }\n",
       "</style>\n",
       "<table border=\"1\" class=\"dataframe\">\n",
       "  <thead>\n",
       "    <tr style=\"text-align: right;\">\n",
       "      <th></th>\n",
       "      <th>cleaned_text</th>\n",
       "      <th>target</th>\n",
       "    </tr>\n",
       "  </thead>\n",
       "  <tbody>\n",
       "    <tr>\n",
       "      <td>0</td>\n",
       "      <td>b'RT : City of Miami to buy \\xe2\\x80\\xa6'</td>\n",
       "      <td>Class B</td>\n",
       "    </tr>\n",
       "    <tr>\n",
       "      <td>1</td>\n",
       "      <td>b' who is paying for the enforcement of \\xe2\\x...</td>\n",
       "      <td>Class B</td>\n",
       "    </tr>\n",
       "    <tr>\n",
       "      <td>2</td>\n",
       "      <td>b'RT : City of Miami to buy \\xe2\\x80\\xa6'</td>\n",
       "      <td>Class B</td>\n",
       "    </tr>\n",
       "    <tr>\n",
       "      <td>3</td>\n",
       "      <td>b'RT : When government determines what\\xe2\\x80...</td>\n",
       "      <td>Class A</td>\n",
       "    </tr>\n",
       "    <tr>\n",
       "      <td>4</td>\n",
       "      <td>b'RT : If travel is responsible for less than ...</td>\n",
       "      <td>Class A</td>\n",
       "    </tr>\n",
       "    <tr>\n",
       "      <td>...</td>\n",
       "      <td>...</td>\n",
       "      <td>...</td>\n",
       "    </tr>\n",
       "    <tr>\n",
       "      <td>663</td>\n",
       "      <td>b'Cases and your Chances of RECOVERY. &amp;amp; TO...</td>\n",
       "      <td>Class B</td>\n",
       "    </tr>\n",
       "    <tr>\n",
       "      <td>664</td>\n",
       "      <td>b'February , Pandemic doesn\\xe2\\x80\\x99t discr...</td>\n",
       "      <td>Class B</td>\n",
       "    </tr>\n",
       "    <tr>\n",
       "      <td>665</td>\n",
       "      <td>b'Karens Gone Wild Canadian Edition!! '</td>\n",
       "      <td>Class B</td>\n",
       "    </tr>\n",
       "    <tr>\n",
       "      <td>666</td>\n",
       "      <td>b'February , Don\\xe2\\x80\\x99t let the pandemic...</td>\n",
       "      <td>Class B</td>\n",
       "    </tr>\n",
       "    <tr>\n",
       "      <td>667</td>\n",
       "      <td>b' Stealing from IS part of YOUR Strategy for ...</td>\n",
       "      <td>Class B</td>\n",
       "    </tr>\n",
       "  </tbody>\n",
       "</table>\n",
       "<p>668 rows × 2 columns</p>\n",
       "</div>"
      ],
      "text/plain": [
       "                                          cleaned_text   target\n",
       "0            b'RT : City of Miami to buy \\xe2\\x80\\xa6'  Class B\n",
       "1    b' who is paying for the enforcement of \\xe2\\x...  Class B\n",
       "2            b'RT : City of Miami to buy \\xe2\\x80\\xa6'  Class B\n",
       "3    b'RT : When government determines what\\xe2\\x80...  Class A\n",
       "4    b'RT : If travel is responsible for less than ...  Class A\n",
       "..                                                 ...      ...\n",
       "663  b'Cases and your Chances of RECOVERY. &amp; TO...  Class B\n",
       "664  b'February , Pandemic doesn\\xe2\\x80\\x99t discr...  Class B\n",
       "665            b'Karens Gone Wild Canadian Edition!! '  Class B\n",
       "666  b'February , Don\\xe2\\x80\\x99t let the pandemic...  Class B\n",
       "667  b' Stealing from IS part of YOUR Strategy for ...  Class B\n",
       "\n",
       "[668 rows x 2 columns]"
      ]
     },
     "execution_count": 13,
     "metadata": {},
     "output_type": "execute_result"
    }
   ],
   "source": [
    "df = data_new[['cleaned_text', 'target']]\n",
    "df"
   ]
  },
  {
   "cell_type": "code",
   "execution_count": 43,
   "metadata": {},
   "outputs": [],
   "source": [
    "from sklearn.feature_extraction.text import TfidfVectorizer\n",
    "\n",
    "X = df[['cleaned_text']]\n",
    "y = df[['target']]"
   ]
  },
  {
   "cell_type": "code",
   "execution_count": 44,
   "metadata": {},
   "outputs": [],
   "source": [
    "from sklearn.feature_extraction.text import TfidfVectorizer\n",
    "td = TfidfVectorizer(max_features = 2000)\n",
    "X = td.fit_transform(X['cleaned_text'].to_list()).toarray()"
   ]
  },
  {
   "cell_type": "code",
   "execution_count": 65,
   "metadata": {},
   "outputs": [],
   "source": [
    "from sklearn.model_selection import train_test_split\n",
    "X_train, X_test, y_train, y_test = train_test_split(X, y, test_size=0.40, random_state=100)"
   ]
  },
  {
   "cell_type": "code",
   "execution_count": 66,
   "metadata": {},
   "outputs": [],
   "source": [
    "from sklearn.linear_model import LogisticRegression\n",
    "regr = LogisticRegression()"
   ]
  },
  {
   "cell_type": "code",
   "execution_count": 67,
   "metadata": {},
   "outputs": [
    {
     "name": "stderr",
     "output_type": "stream",
     "text": [
      "C:\\Users\\sahni\\Anaconda3\\lib\\site-packages\\sklearn\\linear_model\\logistic.py:432: FutureWarning: Default solver will be changed to 'lbfgs' in 0.22. Specify a solver to silence this warning.\n",
      "  FutureWarning)\n",
      "C:\\Users\\sahni\\Anaconda3\\lib\\site-packages\\sklearn\\utils\\validation.py:724: DataConversionWarning: A column-vector y was passed when a 1d array was expected. Please change the shape of y to (n_samples, ), for example using ravel().\n",
      "  y = column_or_1d(y, warn=True)\n"
     ]
    },
    {
     "data": {
      "text/plain": [
       "LogisticRegression(C=1.0, class_weight=None, dual=False, fit_intercept=True,\n",
       "                   intercept_scaling=1, l1_ratio=None, max_iter=100,\n",
       "                   multi_class='warn', n_jobs=None, penalty='l2',\n",
       "                   random_state=None, solver='warn', tol=0.0001, verbose=0,\n",
       "                   warm_start=False)"
      ]
     },
     "execution_count": 67,
     "metadata": {},
     "output_type": "execute_result"
    }
   ],
   "source": [
    "regr.fit(X_train,y_train)"
   ]
  },
  {
   "cell_type": "code",
   "execution_count": 68,
   "metadata": {},
   "outputs": [],
   "source": [
    "model = regr.predict(X_test)"
   ]
  },
  {
   "cell_type": "code",
   "execution_count": 69,
   "metadata": {},
   "outputs": [
    {
     "data": {
      "text/plain": [
       "array([[ 79,  10],\n",
       "       [  0, 179]], dtype=int64)"
      ]
     },
     "execution_count": 69,
     "metadata": {},
     "output_type": "execute_result"
    }
   ],
   "source": [
    "from sklearn.metrics import confusion_matrix\n",
    "\n",
    "confusion_matrix(y_test,model)"
   ]
  },
  {
   "cell_type": "code",
   "execution_count": 70,
   "metadata": {},
   "outputs": [
    {
     "data": {
      "text/plain": [
       "0.9626865671641791"
      ]
     },
     "execution_count": 70,
     "metadata": {},
     "output_type": "execute_result"
    }
   ],
   "source": [
    "from sklearn.metrics import accuracy_score\n",
    "accuracy_score(y_test,model)"
   ]
  },
  {
   "cell_type": "code",
   "execution_count": null,
   "metadata": {},
   "outputs": [],
   "source": []
  },
  {
   "cell_type": "code",
   "execution_count": null,
   "metadata": {},
   "outputs": [],
   "source": [
    "from sklearn.naive_bayes import MultinomialNB\n",
    "classifier = MultinomialNB()\n",
    "classifier.fit(X_train, y_train.values.ravel())"
   ]
  },
  {
   "cell_type": "code",
   "execution_count": null,
   "metadata": {},
   "outputs": [],
   "source": [
    "model = classifier.predict(X_test)"
   ]
  },
  {
   "cell_type": "code",
   "execution_count": null,
   "metadata": {},
   "outputs": [],
   "source": [
    "from sklearn.metrics import accuracy_score, classification_report\n",
    "classification_report = classification_report(y_test, model)\n",
    "\n",
    "print('\\n Accuracy: ', accuracy_score(y_test, model))\n",
    "print('\\nClassification Report')\n",
    "print('======================================================')\n",
    "print('\\n', classification_report)"
   ]
  },
  {
   "cell_type": "code",
   "execution_count": 180,
   "metadata": {},
   "outputs": [
    {
     "name": "stdout",
     "output_type": "stream",
     "text": [
      "precision: [0.875      0.80821918]\n",
      "recall: [0.88888889 0.78666667]\n",
      "fscore: [0.88188976 0.7972973 ]\n",
      "support: [126  75]\n"
     ]
    }
   ],
   "source": [
    "\n",
    "from sklearn.metrics import precision_recall_fscore_support as score\n",
    "\n",
    "precision, recall, fscore, support = score(Y_test, model)\n",
    "\n",
    "print('precision: {}'.format(precision))\n",
    "print('recall: {}'.format(recall))\n",
    "print('fscore: {}'.format(fscore))\n",
    "print('support: {}'.format(support))"
   ]
  },
  {
   "cell_type": "code",
   "execution_count": null,
   "metadata": {},
   "outputs": [],
   "source": []
  }
 ],
 "metadata": {
  "kernelspec": {
   "display_name": "Python 3",
   "language": "python",
   "name": "python3"
  },
  "language_info": {
   "codemirror_mode": {
    "name": "ipython",
    "version": 3
   },
   "file_extension": ".py",
   "mimetype": "text/x-python",
   "name": "python",
   "nbconvert_exporter": "python",
   "pygments_lexer": "ipython3",
   "version": "3.7.4"
  }
 },
 "nbformat": 4,
 "nbformat_minor": 2
}
