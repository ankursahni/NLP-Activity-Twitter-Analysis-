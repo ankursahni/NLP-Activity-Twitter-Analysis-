{
 "cells": [
  {
   "cell_type": "markdown",
   "metadata": {},
   "source": [
    "## Load and Read Data"
   ]
  },
  {
   "cell_type": "code",
   "execution_count": 1,
   "metadata": {},
   "outputs": [],
   "source": [
    "import pandas as pd"
   ]
  },
  {
   "cell_type": "code",
   "execution_count": 73,
   "metadata": {},
   "outputs": [],
   "source": [
    "data = pd.read_csv(r'E:\\New Folder\\covid_canada.csv')"
   ]
  },
  {
   "cell_type": "code",
   "execution_count": 74,
   "metadata": {},
   "outputs": [
    {
     "data": {
      "text/html": [
       "<div>\n",
       "<style scoped>\n",
       "    .dataframe tbody tr th:only-of-type {\n",
       "        vertical-align: middle;\n",
       "    }\n",
       "\n",
       "    .dataframe tbody tr th {\n",
       "        vertical-align: top;\n",
       "    }\n",
       "\n",
       "    .dataframe thead th {\n",
       "        text-align: right;\n",
       "    }\n",
       "</style>\n",
       "<table border=\"1\" class=\"dataframe\">\n",
       "  <thead>\n",
       "    <tr style=\"text-align: right;\">\n",
       "      <th></th>\n",
       "      <th>Tweeted Text</th>\n",
       "      <th>retweet_count</th>\n",
       "    </tr>\n",
       "  </thead>\n",
       "  <tbody>\n",
       "    <tr>\n",
       "      <td>0</td>\n",
       "      <td>b'RT @Truthproject4: City of Miami to buy #Bit...</td>\n",
       "      <td>4</td>\n",
       "    </tr>\n",
       "    <tr>\n",
       "      <td>1</td>\n",
       "      <td>b'@JustinTrudeau who is paying for the enforce...</td>\n",
       "      <td>0</td>\n",
       "    </tr>\n",
       "    <tr>\n",
       "      <td>2</td>\n",
       "      <td>b'RT @Truthproject4: City of Miami to buy #Bit...</td>\n",
       "      <td>4</td>\n",
       "    </tr>\n",
       "    <tr>\n",
       "      <td>3</td>\n",
       "      <td>b'RT @MelissaLMRogers: When government determi...</td>\n",
       "      <td>47</td>\n",
       "    </tr>\n",
       "    <tr>\n",
       "      <td>4</td>\n",
       "      <td>b'RT @Jacklyn39603402: If travel is responsibl...</td>\n",
       "      <td>29</td>\n",
       "    </tr>\n",
       "  </tbody>\n",
       "</table>\n",
       "</div>"
      ],
      "text/plain": [
       "                                        Tweeted Text  retweet_count\n",
       "0  b'RT @Truthproject4: City of Miami to buy #Bit...              4\n",
       "1  b'@JustinTrudeau who is paying for the enforce...              0\n",
       "2  b'RT @Truthproject4: City of Miami to buy #Bit...              4\n",
       "3  b'RT @MelissaLMRogers: When government determi...             47\n",
       "4  b'RT @Jacklyn39603402: If travel is responsibl...             29"
      ]
     },
     "execution_count": 74,
     "metadata": {},
     "output_type": "execute_result"
    }
   ],
   "source": [
    "data.head()"
   ]
  },
  {
   "cell_type": "code",
   "execution_count": 75,
   "metadata": {},
   "outputs": [
    {
     "data": {
      "text/plain": [
       "(668, 2)"
      ]
     },
     "execution_count": 75,
     "metadata": {},
     "output_type": "execute_result"
    }
   ],
   "source": [
    "data.shape"
   ]
  },
  {
   "cell_type": "markdown",
   "metadata": {},
   "source": [
    "## Creating Target Column\n",
    "Dividing 'target' to Class A if retweet count > 10 and otherwise Class B"
   ]
  },
  {
   "cell_type": "code",
   "execution_count": 89,
   "metadata": {},
   "outputs": [],
   "source": [
    "def column_target(retweet_count):\n",
    "\n",
    "    if retweet_count > 10:\n",
    "        return 'Class A'\n",
    "    else:\n",
    "        return 'Class B'\n",
    "    \n",
    "data['target'] = data['retweet_count'].apply(column_target)"
   ]
  },
  {
   "cell_type": "code",
   "execution_count": 90,
   "metadata": {},
   "outputs": [
    {
     "data": {
      "text/plain": [
       "Class B    474\n",
       "Class A    194\n",
       "Name: target, dtype: int64"
      ]
     },
     "execution_count": 90,
     "metadata": {},
     "output_type": "execute_result"
    }
   ],
   "source": [
    "data['target'].value_counts()"
   ]
  },
  {
   "cell_type": "markdown",
   "metadata": {},
   "source": [
    "# Processing the Tweets: \n",
    "- text becomes predictable and analyzable\n",
    "    - Normalization\n",
    "    - Noise removal (unwanted urls, emojis etc)"
   ]
  },
  {
   "cell_type": "markdown",
   "metadata": {},
   "source": [
    "#### Can Install tweet-preprocessor package using\n",
    "- pip install tweet-preprocessor"
   ]
  },
  {
   "cell_type": "code",
   "execution_count": 91,
   "metadata": {},
   "outputs": [],
   "source": [
    "import preprocessor as p"
   ]
  },
  {
   "cell_type": "code",
   "execution_count": 94,
   "metadata": {},
   "outputs": [],
   "source": [
    "data['cleaned_text'] = data['Tweeted Text'].apply(p.clean)"
   ]
  },
  {
   "cell_type": "code",
   "execution_count": 95,
   "metadata": {},
   "outputs": [
    {
     "data": {
      "text/html": [
       "<div>\n",
       "<style scoped>\n",
       "    .dataframe tbody tr th:only-of-type {\n",
       "        vertical-align: middle;\n",
       "    }\n",
       "\n",
       "    .dataframe tbody tr th {\n",
       "        vertical-align: top;\n",
       "    }\n",
       "\n",
       "    .dataframe thead th {\n",
       "        text-align: right;\n",
       "    }\n",
       "</style>\n",
       "<table border=\"1\" class=\"dataframe\">\n",
       "  <thead>\n",
       "    <tr style=\"text-align: right;\">\n",
       "      <th></th>\n",
       "      <th>Tweeted Text</th>\n",
       "      <th>retweet_count</th>\n",
       "      <th>target</th>\n",
       "      <th>cleaned_text</th>\n",
       "    </tr>\n",
       "  </thead>\n",
       "  <tbody>\n",
       "    <tr>\n",
       "      <td>0</td>\n",
       "      <td>b'RT @Truthproject4: City of Miami to buy #Bit...</td>\n",
       "      <td>4</td>\n",
       "      <td>Class B</td>\n",
       "      <td>b'RT : City of Miami to buy \\xe2\\x80\\xa6'</td>\n",
       "    </tr>\n",
       "    <tr>\n",
       "      <td>1</td>\n",
       "      <td>b'@JustinTrudeau who is paying for the enforce...</td>\n",
       "      <td>0</td>\n",
       "      <td>Class B</td>\n",
       "      <td>b' who is paying for the enforcement of \\xe2\\x...</td>\n",
       "    </tr>\n",
       "    <tr>\n",
       "      <td>2</td>\n",
       "      <td>b'RT @Truthproject4: City of Miami to buy #Bit...</td>\n",
       "      <td>4</td>\n",
       "      <td>Class B</td>\n",
       "      <td>b'RT : City of Miami to buy \\xe2\\x80\\xa6'</td>\n",
       "    </tr>\n",
       "    <tr>\n",
       "      <td>3</td>\n",
       "      <td>b'RT @MelissaLMRogers: When government determi...</td>\n",
       "      <td>47</td>\n",
       "      <td>Class A</td>\n",
       "      <td>b'RT : When government determines what\\xe2\\x80...</td>\n",
       "    </tr>\n",
       "    <tr>\n",
       "      <td>4</td>\n",
       "      <td>b'RT @Jacklyn39603402: If travel is responsibl...</td>\n",
       "      <td>29</td>\n",
       "      <td>Class A</td>\n",
       "      <td>b'RT : If travel is responsible for less than ...</td>\n",
       "    </tr>\n",
       "    <tr>\n",
       "      <td>...</td>\n",
       "      <td>...</td>\n",
       "      <td>...</td>\n",
       "      <td>...</td>\n",
       "      <td>...</td>\n",
       "    </tr>\n",
       "    <tr>\n",
       "      <td>663</td>\n",
       "      <td>b'Cases and your Chances of RECOVERY. #Canada ...</td>\n",
       "      <td>0</td>\n",
       "      <td>Class B</td>\n",
       "      <td>b'Cases and your Chances of RECOVERY. &amp;amp; TO...</td>\n",
       "    </tr>\n",
       "    <tr>\n",
       "      <td>664</td>\n",
       "      <td>b'February 4, 2021  Pandemic doesn\\xe2\\x80\\x99...</td>\n",
       "      <td>0</td>\n",
       "      <td>Class B</td>\n",
       "      <td>b'February , Pandemic doesn\\xe2\\x80\\x99t discr...</td>\n",
       "    </tr>\n",
       "    <tr>\n",
       "      <td>665</td>\n",
       "      <td>b'Karens Gone Wild Canadian Edition!!  #Karen ...</td>\n",
       "      <td>1</td>\n",
       "      <td>Class B</td>\n",
       "      <td>b'Karens Gone Wild Canadian Edition!! '</td>\n",
       "    </tr>\n",
       "    <tr>\n",
       "      <td>666</td>\n",
       "      <td>b'February 4, 2021  Don\\xe2\\x80\\x99t let the p...</td>\n",
       "      <td>0</td>\n",
       "      <td>Class B</td>\n",
       "      <td>b'February , Don\\xe2\\x80\\x99t let the pandemic...</td>\n",
       "    </tr>\n",
       "    <tr>\n",
       "      <td>667</td>\n",
       "      <td>b'@CTVNews #Trudeau Stealing from #CoVax IS pa...</td>\n",
       "      <td>2</td>\n",
       "      <td>Class B</td>\n",
       "      <td>b' Stealing from IS part of YOUR Strategy for ...</td>\n",
       "    </tr>\n",
       "  </tbody>\n",
       "</table>\n",
       "<p>668 rows × 4 columns</p>\n",
       "</div>"
      ],
      "text/plain": [
       "                                          Tweeted Text  retweet_count  \\\n",
       "0    b'RT @Truthproject4: City of Miami to buy #Bit...              4   \n",
       "1    b'@JustinTrudeau who is paying for the enforce...              0   \n",
       "2    b'RT @Truthproject4: City of Miami to buy #Bit...              4   \n",
       "3    b'RT @MelissaLMRogers: When government determi...             47   \n",
       "4    b'RT @Jacklyn39603402: If travel is responsibl...             29   \n",
       "..                                                 ...            ...   \n",
       "663  b'Cases and your Chances of RECOVERY. #Canada ...              0   \n",
       "664  b'February 4, 2021  Pandemic doesn\\xe2\\x80\\x99...              0   \n",
       "665  b'Karens Gone Wild Canadian Edition!!  #Karen ...              1   \n",
       "666  b'February 4, 2021  Don\\xe2\\x80\\x99t let the p...              0   \n",
       "667  b'@CTVNews #Trudeau Stealing from #CoVax IS pa...              2   \n",
       "\n",
       "      target                                       cleaned_text  \n",
       "0    Class B          b'RT : City of Miami to buy \\xe2\\x80\\xa6'  \n",
       "1    Class B  b' who is paying for the enforcement of \\xe2\\x...  \n",
       "2    Class B          b'RT : City of Miami to buy \\xe2\\x80\\xa6'  \n",
       "3    Class A  b'RT : When government determines what\\xe2\\x80...  \n",
       "4    Class A  b'RT : If travel is responsible for less than ...  \n",
       "..       ...                                                ...  \n",
       "663  Class B  b'Cases and your Chances of RECOVERY. &amp; TO...  \n",
       "664  Class B  b'February , Pandemic doesn\\xe2\\x80\\x99t discr...  \n",
       "665  Class B            b'Karens Gone Wild Canadian Edition!! '  \n",
       "666  Class B  b'February , Don\\xe2\\x80\\x99t let the pandemic...  \n",
       "667  Class B  b' Stealing from IS part of YOUR Strategy for ...  \n",
       "\n",
       "[668 rows x 4 columns]"
      ]
     },
     "execution_count": 95,
     "metadata": {},
     "output_type": "execute_result"
    }
   ],
   "source": [
    "data"
   ]
  },
  {
   "cell_type": "markdown",
   "metadata": {},
   "source": [
    "### Creating new Dataframe with columns that can be used for Model Training "
   ]
  },
  {
   "cell_type": "code",
   "execution_count": 179,
   "metadata": {},
   "outputs": [
    {
     "data": {
      "text/html": [
       "<div>\n",
       "<style scoped>\n",
       "    .dataframe tbody tr th:only-of-type {\n",
       "        vertical-align: middle;\n",
       "    }\n",
       "\n",
       "    .dataframe tbody tr th {\n",
       "        vertical-align: top;\n",
       "    }\n",
       "\n",
       "    .dataframe thead th {\n",
       "        text-align: right;\n",
       "    }\n",
       "</style>\n",
       "<table border=\"1\" class=\"dataframe\">\n",
       "  <thead>\n",
       "    <tr style=\"text-align: right;\">\n",
       "      <th></th>\n",
       "      <th>cleaned_text</th>\n",
       "      <th>target</th>\n",
       "    </tr>\n",
       "  </thead>\n",
       "  <tbody>\n",
       "    <tr>\n",
       "      <td>0</td>\n",
       "      <td>b'RT : City of Miami to buy \\xe2\\x80\\xa6'</td>\n",
       "      <td>Class B</td>\n",
       "    </tr>\n",
       "    <tr>\n",
       "      <td>1</td>\n",
       "      <td>b' who is paying for the enforcement of \\xe2\\x...</td>\n",
       "      <td>Class B</td>\n",
       "    </tr>\n",
       "    <tr>\n",
       "      <td>2</td>\n",
       "      <td>b'RT : City of Miami to buy \\xe2\\x80\\xa6'</td>\n",
       "      <td>Class B</td>\n",
       "    </tr>\n",
       "    <tr>\n",
       "      <td>3</td>\n",
       "      <td>b'RT : When government determines what\\xe2\\x80...</td>\n",
       "      <td>Class A</td>\n",
       "    </tr>\n",
       "    <tr>\n",
       "      <td>4</td>\n",
       "      <td>b'RT : If travel is responsible for less than ...</td>\n",
       "      <td>Class A</td>\n",
       "    </tr>\n",
       "    <tr>\n",
       "      <td>...</td>\n",
       "      <td>...</td>\n",
       "      <td>...</td>\n",
       "    </tr>\n",
       "    <tr>\n",
       "      <td>663</td>\n",
       "      <td>b'Cases and your Chances of RECOVERY. &amp;amp; TO...</td>\n",
       "      <td>Class B</td>\n",
       "    </tr>\n",
       "    <tr>\n",
       "      <td>664</td>\n",
       "      <td>b'February , Pandemic doesn\\xe2\\x80\\x99t discr...</td>\n",
       "      <td>Class B</td>\n",
       "    </tr>\n",
       "    <tr>\n",
       "      <td>665</td>\n",
       "      <td>b'Karens Gone Wild Canadian Edition!! '</td>\n",
       "      <td>Class B</td>\n",
       "    </tr>\n",
       "    <tr>\n",
       "      <td>666</td>\n",
       "      <td>b'February , Don\\xe2\\x80\\x99t let the pandemic...</td>\n",
       "      <td>Class B</td>\n",
       "    </tr>\n",
       "    <tr>\n",
       "      <td>667</td>\n",
       "      <td>b' Stealing from IS part of YOUR Strategy for ...</td>\n",
       "      <td>Class B</td>\n",
       "    </tr>\n",
       "  </tbody>\n",
       "</table>\n",
       "<p>668 rows × 2 columns</p>\n",
       "</div>"
      ],
      "text/plain": [
       "                                          cleaned_text   target\n",
       "0            b'RT : City of Miami to buy \\xe2\\x80\\xa6'  Class B\n",
       "1    b' who is paying for the enforcement of \\xe2\\x...  Class B\n",
       "2            b'RT : City of Miami to buy \\xe2\\x80\\xa6'  Class B\n",
       "3    b'RT : When government determines what\\xe2\\x80...  Class A\n",
       "4    b'RT : If travel is responsible for less than ...  Class A\n",
       "..                                                 ...      ...\n",
       "663  b'Cases and your Chances of RECOVERY. &amp; TO...  Class B\n",
       "664  b'February , Pandemic doesn\\xe2\\x80\\x99t discr...  Class B\n",
       "665            b'Karens Gone Wild Canadian Edition!! '  Class B\n",
       "666  b'February , Don\\xe2\\x80\\x99t let the pandemic...  Class B\n",
       "667  b' Stealing from IS part of YOUR Strategy for ...  Class B\n",
       "\n",
       "[668 rows x 2 columns]"
      ]
     },
     "execution_count": 179,
     "metadata": {},
     "output_type": "execute_result"
    }
   ],
   "source": [
    "df = data_new[['cleaned_text', 'target']]\n",
    "df"
   ]
  },
  {
   "cell_type": "markdown",
   "metadata": {},
   "source": [
    "## Transforming Dataframe (text) to Vectors"
   ]
  },
  {
   "cell_type": "code",
   "execution_count": 180,
   "metadata": {},
   "outputs": [],
   "source": [
    "from sklearn.feature_extraction.text import TfidfVectorizer\n",
    "\n",
    "Xn = df[['cleaned_text']]\n",
    "y = df[['target']]"
   ]
  },
  {
   "cell_type": "code",
   "execution_count": 181,
   "metadata": {},
   "outputs": [],
   "source": [
    "td = TfidfVectorizer(max_features = 2000)\n",
    "Xn = td.fit_transform(Xn['cleaned_text'].to_list()).toarray()"
   ]
  },
  {
   "cell_type": "code",
   "execution_count": 182,
   "metadata": {},
   "outputs": [
    {
     "data": {
      "text/plain": [
       "(668, 1856)"
      ]
     },
     "execution_count": 182,
     "metadata": {},
     "output_type": "execute_result"
    }
   ],
   "source": [
    "Xn.shape"
   ]
  },
  {
   "cell_type": "markdown",
   "metadata": {},
   "source": [
    "### Creating Train and Test Splits\n",
    "- Using 40 percent of data for training the model (test_size)"
   ]
  },
  {
   "cell_type": "code",
   "execution_count": 183,
   "metadata": {},
   "outputs": [],
   "source": [
    "from sklearn.model_selection import train_test_split\n",
    "X_train, X_test, y_train, y_test = train_test_split(Xn, y, test_size=0.40, random_state=100)"
   ]
  },
  {
   "cell_type": "markdown",
   "metadata": {},
   "source": [
    "## Using Logistic Regression Model For Model Training"
   ]
  },
  {
   "cell_type": "code",
   "execution_count": 184,
   "metadata": {},
   "outputs": [],
   "source": [
    "from sklearn.linear_model import LogisticRegression\n",
    "regr = LogisticRegression()"
   ]
  },
  {
   "cell_type": "code",
   "execution_count": 185,
   "metadata": {},
   "outputs": [
    {
     "name": "stderr",
     "output_type": "stream",
     "text": [
      "C:\\Users\\sahni\\Anaconda3\\lib\\site-packages\\sklearn\\linear_model\\logistic.py:432: FutureWarning: Default solver will be changed to 'lbfgs' in 0.22. Specify a solver to silence this warning.\n",
      "  FutureWarning)\n",
      "C:\\Users\\sahni\\Anaconda3\\lib\\site-packages\\sklearn\\utils\\validation.py:724: DataConversionWarning: A column-vector y was passed when a 1d array was expected. Please change the shape of y to (n_samples, ), for example using ravel().\n",
      "  y = column_or_1d(y, warn=True)\n"
     ]
    },
    {
     "data": {
      "text/plain": [
       "LogisticRegression(C=1.0, class_weight=None, dual=False, fit_intercept=True,\n",
       "                   intercept_scaling=1, l1_ratio=None, max_iter=100,\n",
       "                   multi_class='warn', n_jobs=None, penalty='l2',\n",
       "                   random_state=None, solver='warn', tol=0.0001, verbose=0,\n",
       "                   warm_start=False)"
      ]
     },
     "execution_count": 185,
     "metadata": {},
     "output_type": "execute_result"
    }
   ],
   "source": [
    "regr.fit(X_train,y_train)"
   ]
  },
  {
   "cell_type": "code",
   "execution_count": 186,
   "metadata": {},
   "outputs": [],
   "source": [
    "model = regr.predict(X_test)"
   ]
  },
  {
   "cell_type": "markdown",
   "metadata": {},
   "source": [
    "### Evaluating Model Using Confusion Matrix Calculations\n",
    "- Predicting accuracy thereafter"
   ]
  },
  {
   "cell_type": "code",
   "execution_count": 187,
   "metadata": {},
   "outputs": [
    {
     "data": {
      "text/plain": [
       "array([[ 79,  10],\n",
       "       [  0, 179]], dtype=int64)"
      ]
     },
     "execution_count": 187,
     "metadata": {},
     "output_type": "execute_result"
    }
   ],
   "source": [
    "from sklearn.metrics import confusion_matrix\n",
    "\n",
    "confusion_matrix(y_test,model)"
   ]
  },
  {
   "cell_type": "code",
   "execution_count": 188,
   "metadata": {},
   "outputs": [
    {
     "data": {
      "text/plain": [
       "0.9626865671641791"
      ]
     },
     "execution_count": 188,
     "metadata": {},
     "output_type": "execute_result"
    }
   ],
   "source": [
    "from sklearn.metrics import accuracy_score\n",
    "accuracy_score(y_test,model)"
   ]
  },
  {
   "cell_type": "markdown",
   "metadata": {},
   "source": [
    "## Using Support Vector Machine (Linear SVC) For Model Training"
   ]
  },
  {
   "cell_type": "code",
   "execution_count": 189,
   "metadata": {},
   "outputs": [],
   "source": [
    "import sklearn as sk\n",
    "from sklearn import svm"
   ]
  },
  {
   "cell_type": "code",
   "execution_count": 190,
   "metadata": {},
   "outputs": [
    {
     "name": "stderr",
     "output_type": "stream",
     "text": [
      "C:\\Users\\sahni\\Anaconda3\\lib\\site-packages\\sklearn\\utils\\validation.py:724: DataConversionWarning: A column-vector y was passed when a 1d array was expected. Please change the shape of y to (n_samples, ), for example using ravel().\n",
      "  y = column_or_1d(y, warn=True)\n"
     ]
    },
    {
     "data": {
      "text/plain": [
       "LinearSVC(C=1.0, class_weight=None, dual=True, fit_intercept=True,\n",
       "          intercept_scaling=1, loss='squared_hinge', max_iter=1000,\n",
       "          multi_class='ovr', penalty='l2', random_state=None, tol=0.0001,\n",
       "          verbose=0)"
      ]
     },
     "execution_count": 190,
     "metadata": {},
     "output_type": "execute_result"
    }
   ],
   "source": [
    "SVM = svm.LinearSVC()\n",
    "SVM.fit(X_train, y_train)"
   ]
  },
  {
   "cell_type": "code",
   "execution_count": 191,
   "metadata": {},
   "outputs": [],
   "source": [
    "modell = SVM.predict(X_test)"
   ]
  },
  {
   "cell_type": "markdown",
   "metadata": {},
   "source": [
    "#### Accracy Check (SVM)"
   ]
  },
  {
   "cell_type": "code",
   "execution_count": 192,
   "metadata": {},
   "outputs": [
    {
     "data": {
      "text/plain": [
       "0.996268656716418"
      ]
     },
     "execution_count": 192,
     "metadata": {},
     "output_type": "execute_result"
    }
   ],
   "source": [
    "from sklearn.metrics import accuracy_score\n",
    "\n",
    "accuracy_score(y_test, modell)"
   ]
  },
 ],
 "metadata": {
  "kernelspec": {
   "display_name": "Python 3",
   "language": "python",
   "name": "python3"
  },
  "language_info": {
   "codemirror_mode": {
    "name": "ipython",
    "version": 3
   },
   "file_extension": ".py",
   "mimetype": "text/x-python",
   "name": "python",
   "nbconvert_exporter": "python",
   "pygments_lexer": "ipython3",
   "version": "3.7.4"
  }
 },
 "nbformat": 4,
 "nbformat_minor": 2
}
